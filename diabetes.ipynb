{
  "nbformat": 4,
  "nbformat_minor": 0,
  "metadata": {
    "colab": {
      "name": "Untitled9.ipynb",
      "provenance": []
    },
    "kernelspec": {
      "name": "python3",
      "display_name": "Python 3"
    }
  },
  "cells": [
    {
      "cell_type": "code",
      "metadata": {
        "id": "I-kJe2mf8DXS"
      },
      "source": [
        "import numpy as np \n",
        "import pandas as pd\n",
        "import seaborn as sns\n",
        "import matplotlib.pyplot as plt\n",
        "from sklearn.model_selection import train_test_split, GridSearchCV, cross_val_score\n",
        "from sklearn.metrics import accuracy_score\n",
        "from sklearn.linear_model import LogisticRegression\n",
        "from sklearn.neighbors import KNeighborsClassifier\n",
        "from sklearn.svm import SVC\n",
        "from sklearn.tree import DecisionTreeClassifier\n",
        "from sklearn.ensemble import RandomForestClassifier\n",
        "from sklearn.ensemble import GradientBoostingClassifier\n",
        "from lightgbm import LGBMClassifier\n",
        "from sklearn.model_selection import KFold\n",
        "from xgboost import XGBClassifier"
      ],
      "execution_count": 1,
      "outputs": []
    },
    {
      "cell_type": "code",
      "metadata": {
        "id": "Wem4IgWY_Vs1"
      },
      "source": [
        "import pickle"
      ],
      "execution_count": 33,
      "outputs": []
    },
    {
      "cell_type": "code",
      "metadata": {
        "id": "kT_W5plW8caQ"
      },
      "source": [
        "df = pd.read_csv(\"diabetes.csv\") # gerekli kütüphaneleri ekledikten sonra veri setini okutup df ismine atadık."
      ],
      "execution_count": 3,
      "outputs": []
    },
    {
      "cell_type": "code",
      "metadata": {
        "id": "_k-Wex7A8fmW"
      },
      "source": [
        "models = []\n",
        "\n",
        "\n",
        "models.append(('GradientBoosting', GradientBoostingClassifier()))\n"
      ],
      "execution_count": 18,
      "outputs": []
    },
    {
      "cell_type": "code",
      "metadata": {
        "id": "JvcDh1RV8xVZ"
      },
      "source": [
        "df[[\"Glucose\",\"BloodPressure\",\"SkinThickness\",\"Insulin\",\"BMI\"]] = df[[\"Glucose\",\"BloodPressure\",\"SkinThickness\",\"Insulin\",\"BMI\"]].replace(0,np.NaN)"
      ],
      "execution_count": 19,
      "outputs": []
    },
    {
      "cell_type": "code",
      "metadata": {
        "colab": {
          "base_uri": "https://localhost:8080/"
        },
        "id": "LAkIbCrw83Bg",
        "outputId": "e8268408-2af2-4b0f-e988-f349f5a5fc8d"
      },
      "source": [
        "df.isnull().sum() # Her değişkenin kaç adet NaN değeri olduğunu gösteren kod bloğu"
      ],
      "execution_count": 20,
      "outputs": [
        {
          "output_type": "execute_result",
          "data": {
            "text/plain": [
              "Pregnancies                   0\n",
              "Glucose                      11\n",
              "BloodPressure                44\n",
              "SkinThickness                20\n",
              "Insulin                     236\n",
              "BMI                           0\n",
              "DiabetesPedigreeFunction      0\n",
              "Age                           0\n",
              "Outcome                       0\n",
              "BMIRanges_Healthy             0\n",
              "BMIRanges_Overweight          0\n",
              "BMIRanges_Obese               0\n",
              "INSULIN_DESC_Normal           0\n",
              "NewGlucose_Normal             0\n",
              "NewGlucose_Secret             0\n",
              "NewGlucose_High               0\n",
              "dtype: int64"
            ]
          },
          "metadata": {
            "tags": []
          },
          "execution_count": 20
        }
      ]
    },
    {
      "cell_type": "code",
      "metadata": {
        "colab": {
          "base_uri": "https://localhost:8080/",
          "height": 419
        },
        "id": "MNGFLPBA86Mv",
        "outputId": "2f6083b6-ffce-4e2c-e94c-e4c10be298b6"
      },
      "source": [
        "df[[\"Glucose\",\"BloodPressure\",\"SkinThickness\",\"Insulin\",\"BMI\"]].dropna()"
      ],
      "execution_count": 21,
      "outputs": [
        {
          "output_type": "execute_result",
          "data": {
            "text/html": [
              "<div>\n",
              "<style scoped>\n",
              "    .dataframe tbody tr th:only-of-type {\n",
              "        vertical-align: middle;\n",
              "    }\n",
              "\n",
              "    .dataframe tbody tr th {\n",
              "        vertical-align: top;\n",
              "    }\n",
              "\n",
              "    .dataframe thead th {\n",
              "        text-align: right;\n",
              "    }\n",
              "</style>\n",
              "<table border=\"1\" class=\"dataframe\">\n",
              "  <thead>\n",
              "    <tr style=\"text-align: right;\">\n",
              "      <th></th>\n",
              "      <th>Glucose</th>\n",
              "      <th>BloodPressure</th>\n",
              "      <th>SkinThickness</th>\n",
              "      <th>Insulin</th>\n",
              "      <th>BMI</th>\n",
              "    </tr>\n",
              "  </thead>\n",
              "  <tbody>\n",
              "    <tr>\n",
              "      <th>2</th>\n",
              "      <td>1.600000</td>\n",
              "      <td>-0.500</td>\n",
              "      <td>0.625</td>\n",
              "      <td>0.897033</td>\n",
              "      <td>-0.961538</td>\n",
              "    </tr>\n",
              "    <tr>\n",
              "      <th>3</th>\n",
              "      <td>-0.678788</td>\n",
              "      <td>-0.375</td>\n",
              "      <td>-0.625</td>\n",
              "      <td>-0.425185</td>\n",
              "      <td>-0.434066</td>\n",
              "    </tr>\n",
              "    <tr>\n",
              "      <th>4</th>\n",
              "      <td>0.484848</td>\n",
              "      <td>-2.000</td>\n",
              "      <td>0.875</td>\n",
              "      <td>0.441873</td>\n",
              "      <td>1.214286</td>\n",
              "    </tr>\n",
              "    <tr>\n",
              "      <th>6</th>\n",
              "      <td>-0.945455</td>\n",
              "      <td>-1.375</td>\n",
              "      <td>0.500</td>\n",
              "      <td>-0.495487</td>\n",
              "      <td>-0.115385</td>\n",
              "    </tr>\n",
              "    <tr>\n",
              "      <th>8</th>\n",
              "      <td>1.939394</td>\n",
              "      <td>-0.125</td>\n",
              "      <td>2.125</td>\n",
              "      <td>4.835744</td>\n",
              "      <td>-0.170330</td>\n",
              "    </tr>\n",
              "    <tr>\n",
              "      <th>...</th>\n",
              "      <td>...</td>\n",
              "      <td>...</td>\n",
              "      <td>...</td>\n",
              "      <td>...</td>\n",
              "      <td>...</td>\n",
              "    </tr>\n",
              "    <tr>\n",
              "      <th>759</th>\n",
              "      <td>1.769697</td>\n",
              "      <td>1.250</td>\n",
              "      <td>0.625</td>\n",
              "      <td>0.897033</td>\n",
              "      <td>0.379121</td>\n",
              "    </tr>\n",
              "    <tr>\n",
              "      <th>760</th>\n",
              "      <td>-0.703030</td>\n",
              "      <td>-0.875</td>\n",
              "      <td>-0.250</td>\n",
              "      <td>-1.339110</td>\n",
              "      <td>-0.401099</td>\n",
              "    </tr>\n",
              "    <tr>\n",
              "      <th>761</th>\n",
              "      <td>1.284848</td>\n",
              "      <td>0.125</td>\n",
              "      <td>0.375</td>\n",
              "      <td>0.897033</td>\n",
              "      <td>1.313187</td>\n",
              "    </tr>\n",
              "    <tr>\n",
              "      <th>763</th>\n",
              "      <td>-0.387879</td>\n",
              "      <td>0.250</td>\n",
              "      <td>2.500</td>\n",
              "      <td>0.582476</td>\n",
              "      <td>0.093407</td>\n",
              "    </tr>\n",
              "    <tr>\n",
              "      <th>766</th>\n",
              "      <td>0.218182</td>\n",
              "      <td>-0.750</td>\n",
              "      <td>0.625</td>\n",
              "      <td>0.897033</td>\n",
              "      <td>-0.214286</td>\n",
              "    </tr>\n",
              "  </tbody>\n",
              "</table>\n",
              "<p>477 rows × 5 columns</p>\n",
              "</div>"
            ],
            "text/plain": [
              "      Glucose  BloodPressure  SkinThickness   Insulin       BMI\n",
              "2    1.600000         -0.500          0.625  0.897033 -0.961538\n",
              "3   -0.678788         -0.375         -0.625 -0.425185 -0.434066\n",
              "4    0.484848         -2.000          0.875  0.441873  1.214286\n",
              "6   -0.945455         -1.375          0.500 -0.495487 -0.115385\n",
              "8    1.939394         -0.125          2.125  4.835744 -0.170330\n",
              "..        ...            ...            ...       ...       ...\n",
              "759  1.769697          1.250          0.625  0.897033  0.379121\n",
              "760 -0.703030         -0.875         -0.250 -1.339110 -0.401099\n",
              "761  1.284848          0.125          0.375  0.897033  1.313187\n",
              "763 -0.387879          0.250          2.500  0.582476  0.093407\n",
              "766  0.218182         -0.750          0.625  0.897033 -0.214286\n",
              "\n",
              "[477 rows x 5 columns]"
            ]
          },
          "metadata": {
            "tags": []
          },
          "execution_count": 21
        }
      ]
    },
    {
      "cell_type": "code",
      "metadata": {
        "colab": {
          "base_uri": "https://localhost:8080/"
        },
        "id": "xhQs1P6z89zc",
        "outputId": "c9a9e46f-2417-43bd-af48-59a6d25d125a"
      },
      "source": [
        "naValues =[\"Glucose\", \"BloodPressure\", \"SkinThickness\", \"Insulin\", \"BMI\"]\n",
        "\n",
        "for i in naValues:\n",
        "    df[i][(df[i].isnull()) & (df[\"Outcome\"] == 0)] = df[i][(df[i].isnull()) & (df[\"Outcome\"] == 0)].fillna(df[i][df[\"Outcome\"] == 0].mean())\n",
        "    df[i][(df[i].isnull()) & (df[\"Outcome\"] == 1)] = df[i][(df[i].isnull()) & (df[\"Outcome\"] == 1)].fillna(df[i][df[\"Outcome\"] == 1].mean())"
      ],
      "execution_count": 22,
      "outputs": [
        {
          "output_type": "stream",
          "text": [
            "/usr/local/lib/python3.6/dist-packages/ipykernel_launcher.py:4: SettingWithCopyWarning: \n",
            "A value is trying to be set on a copy of a slice from a DataFrame\n",
            "\n",
            "See the caveats in the documentation: https://pandas.pydata.org/pandas-docs/stable/user_guide/indexing.html#returning-a-view-versus-a-copy\n",
            "  after removing the cwd from sys.path.\n",
            "/usr/local/lib/python3.6/dist-packages/ipykernel_launcher.py:5: SettingWithCopyWarning: \n",
            "A value is trying to be set on a copy of a slice from a DataFrame\n",
            "\n",
            "See the caveats in the documentation: https://pandas.pydata.org/pandas-docs/stable/user_guide/indexing.html#returning-a-view-versus-a-copy\n",
            "  \"\"\"\n",
            "/usr/local/lib/python3.6/dist-packages/ipykernel_launcher.py:4: SettingWithCopyWarning: \n",
            "A value is trying to be set on a copy of a slice from a DataFrame\n",
            "\n",
            "See the caveats in the documentation: https://pandas.pydata.org/pandas-docs/stable/user_guide/indexing.html#returning-a-view-versus-a-copy\n",
            "  after removing the cwd from sys.path.\n",
            "/usr/local/lib/python3.6/dist-packages/ipykernel_launcher.py:5: SettingWithCopyWarning: \n",
            "A value is trying to be set on a copy of a slice from a DataFrame\n",
            "\n",
            "See the caveats in the documentation: https://pandas.pydata.org/pandas-docs/stable/user_guide/indexing.html#returning-a-view-versus-a-copy\n",
            "  \"\"\"\n",
            "/usr/local/lib/python3.6/dist-packages/ipykernel_launcher.py:4: SettingWithCopyWarning: \n",
            "A value is trying to be set on a copy of a slice from a DataFrame\n",
            "\n",
            "See the caveats in the documentation: https://pandas.pydata.org/pandas-docs/stable/user_guide/indexing.html#returning-a-view-versus-a-copy\n",
            "  after removing the cwd from sys.path.\n",
            "/usr/local/lib/python3.6/dist-packages/ipykernel_launcher.py:5: SettingWithCopyWarning: \n",
            "A value is trying to be set on a copy of a slice from a DataFrame\n",
            "\n",
            "See the caveats in the documentation: https://pandas.pydata.org/pandas-docs/stable/user_guide/indexing.html#returning-a-view-versus-a-copy\n",
            "  \"\"\"\n",
            "/usr/local/lib/python3.6/dist-packages/ipykernel_launcher.py:4: SettingWithCopyWarning: \n",
            "A value is trying to be set on a copy of a slice from a DataFrame\n",
            "\n",
            "See the caveats in the documentation: https://pandas.pydata.org/pandas-docs/stable/user_guide/indexing.html#returning-a-view-versus-a-copy\n",
            "  after removing the cwd from sys.path.\n",
            "/usr/local/lib/python3.6/dist-packages/ipykernel_launcher.py:5: SettingWithCopyWarning: \n",
            "A value is trying to be set on a copy of a slice from a DataFrame\n",
            "\n",
            "See the caveats in the documentation: https://pandas.pydata.org/pandas-docs/stable/user_guide/indexing.html#returning-a-view-versus-a-copy\n",
            "  \"\"\"\n",
            "/usr/local/lib/python3.6/dist-packages/ipykernel_launcher.py:4: SettingWithCopyWarning: \n",
            "A value is trying to be set on a copy of a slice from a DataFrame\n",
            "\n",
            "See the caveats in the documentation: https://pandas.pydata.org/pandas-docs/stable/user_guide/indexing.html#returning-a-view-versus-a-copy\n",
            "  after removing the cwd from sys.path.\n",
            "/usr/local/lib/python3.6/dist-packages/ipykernel_launcher.py:5: SettingWithCopyWarning: \n",
            "A value is trying to be set on a copy of a slice from a DataFrame\n",
            "\n",
            "See the caveats in the documentation: https://pandas.pydata.org/pandas-docs/stable/user_guide/indexing.html#returning-a-view-versus-a-copy\n",
            "  \"\"\"\n"
          ],
          "name": "stderr"
        }
      ]
    },
    {
      "cell_type": "code",
      "metadata": {
        "colab": {
          "base_uri": "https://localhost:8080/"
        },
        "id": "sa22Zm7S9Fm6",
        "outputId": "c0b13a52-a120-4829-c248-dc097b3d0203"
      },
      "source": [
        "for feature in df:\n",
        "\n",
        "    Q1 = df[feature].quantile(0.05)\n",
        "    Q3 = df[feature].quantile(0.95)\n",
        "    IQR = Q3-Q1\n",
        "    upper = Q3 + 1.5*IQR\n",
        "    lower = Q1 - 1.5*IQR\n",
        "\n",
        "    if df[(df[feature] > upper) | (df[feature] < lower)].any( axis=None):\n",
        "        print(feature,\"yes\")\n",
        "        print(df[(df[feature] > upper) | (df[feature] < lower) ].shape[0])\n",
        "        print(\"lower\",lower,\"\\nupper\",upper)\n",
        "        df.loc[df[feature] > upper,feature] = upper # baskılama\n",
        "    else:\n",
        "        print(feature, \"no\")"
      ],
      "execution_count": 23,
      "outputs": [
        {
          "output_type": "stream",
          "text": [
            "Pregnancies no\n",
            "Glucose no\n",
            "BloodPressure no\n",
            "SkinThickness no\n",
            "Insulin yes\n",
            "3\n",
            "lower -5.2115749655181824 \n",
            "upper 6.177338959673344\n",
            "BMI no\n",
            "DiabetesPedigreeFunction no\n",
            "Age no\n",
            "Outcome no\n",
            "BMIRanges_Healthy no\n",
            "BMIRanges_Overweight no\n",
            "BMIRanges_Obese no\n",
            "INSULIN_DESC_Normal no\n",
            "NewGlucose_Normal no\n",
            "NewGlucose_Secret no\n",
            "NewGlucose_High no\n"
          ],
          "name": "stdout"
        }
      ]
    },
    {
      "cell_type": "code",
      "metadata": {
        "id": "a79scYLl9M-D"
      },
      "source": [
        "df['BMIRanges'] = pd.cut(x=df['BMI'], bins=[0,18.5,25,30,100],labels = [\"Underweight\",\"Healthy\",\"Overweight\",\"Obese\"])"
      ],
      "execution_count": 24,
      "outputs": []
    },
    {
      "cell_type": "code",
      "metadata": {
        "id": "Ss_HQneL9Pq6"
      },
      "source": [
        "def set_insulin(row):\n",
        "    if row[\"Insulin\"] >= 16 and row[\"Insulin\"] <= 166:\n",
        "        return \"Normal\"\n",
        "    else:\n",
        "        return \"Abnormal\"\n",
        "df = df.assign(INSULIN_DESC=df.apply(set_insulin, axis=1)) #burada yukarıdaki fonksiyonu df'e uyguluyoruz."
      ],
      "execution_count": 25,
      "outputs": []
    },
    {
      "cell_type": "code",
      "metadata": {
        "id": "XYOmAz4t9R5f"
      },
      "source": [
        "df['NewGlucose'] = pd.cut(x=df['Glucose'], bins=[0,70,99,126,200],labels = [\"Low\",\"Normal\",\"Secret\",\"High\"])"
      ],
      "execution_count": 26,
      "outputs": []
    },
    {
      "cell_type": "code",
      "metadata": {
        "id": "YIs6qdx59UDE"
      },
      "source": [
        "df = pd.get_dummies(df,drop_first=True)"
      ],
      "execution_count": 27,
      "outputs": []
    },
    {
      "cell_type": "code",
      "metadata": {
        "id": "cRTdtmtb9Wxu"
      },
      "source": [
        "from sklearn.preprocessing import RobustScaler\n",
        "r_scaler = RobustScaler()\n",
        "\n",
        "df_r = r_scaler.fit_transform(df.drop([\"Outcome\",\"BMIRanges_Healthy\",\"BMIRanges_Overweight\",\"BMIRanges_Obese\",\"INSULIN_DESC_Normal\",\"NewGlucose_Normal\",\"NewGlucose_Secret\",\"NewGlucose_High\"],axis=1))\n",
        "\n",
        "df_r = pd.DataFrame(df_r, columns=[\"Pregnancies\",\"Glucose\",\"BloodPressure\",\"SkinThickness\",\"Insulin\",\"BMI\",\"DiabetesPedigreeFunction\",\"Age\"])\n",
        "df = pd.concat([df_r,df[[\"Outcome\",\"BMIRanges_Healthy\",\"BMIRanges_Overweight\",\"BMIRanges_Obese\",\"INSULIN_DESC_Normal\",\"NewGlucose_Normal\",\"NewGlucose_Secret\",\"NewGlucose_High\"]]],axis=1)"
      ],
      "execution_count": 28,
      "outputs": []
    },
    {
      "cell_type": "code",
      "metadata": {
        "colab": {
          "base_uri": "https://localhost:8080/"
        },
        "id": "Lpf3LK5f9aUJ",
        "outputId": "d9f0a9de-d7cf-4d86-945f-507e9abdb60c"
      },
      "source": [
        "X = df.drop(\"Outcome\",axis=1)\n",
        "y = df[\"Outcome\"]\n",
        "\n",
        "X_train, X_test, y_train, y_test = train_test_split(X,y,test_size=0.2,random_state=46)\n",
        "\n",
        "for name,model in models:\n",
        "    mod = model.fit(X_train,y_train) #trainleri modele fit etmek\n",
        "    y_pred = mod.predict(X_test) # tahmin\n",
        "    acc = accuracy_score(y_test, y_pred) #rmse hesabı\n",
        "    cvscore = cross_val_score(model, X,y, cv = 10).mean()\n",
        "    print(\"Holdout Method:\",end=\" \")\n",
        "    print(name,acc) #yazdırılacak kısım\n",
        "    print(\"Cross Val Score\",end=\" \")\n",
        "    print(name,cvscore)\n",
        "    print(\"------------------------------------\")"
      ],
      "execution_count": 38,
      "outputs": [
        {
          "output_type": "stream",
          "text": [
            "Holdout Method: GradientBoosting 0.8636363636363636\n",
            "Cross Val Score GradientBoosting 0.8958817498291183\n",
            "------------------------------------\n"
          ],
          "name": "stdout"
        }
      ]
    },
    {
      "cell_type": "code",
      "metadata": {
        "id": "a2e2eGqj9lwT"
      },
      "source": [
        "filename = 'diabetes_model.pkl'\n",
        "pickle.dump( GradientBoostingClassifier, open(filename, 'wb'))"
      ],
      "execution_count": 34,
      "outputs": []
    },
    {
      "cell_type": "code",
      "metadata": {
        "id": "djTgsNby_Za1"
      },
      "source": [
        "\n",
        "model = open('diabetes_model.pkl','rb')\n",
        "gradient = pickle.load(model)"
      ],
      "execution_count": 35,
      "outputs": []
    },
    {
      "cell_type": "code",
      "metadata": {
        "id": "_AYxFNvrAhYo"
      },
      "source": [
        "y_pred = mod.predict(X_test)"
      ],
      "execution_count": 40,
      "outputs": []
    }
  ]
}